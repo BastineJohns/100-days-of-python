{
 "cells": [
  {
   "cell_type": "code",
   "execution_count": null,
   "metadata": {},
   "outputs": [],
   "source": [
    "from turtle import Turtle, Screen, color, forward, right\n",
    "timmy = Turtle()\n",
    "print(timmy)\n",
    "forward(100)\n",
    "for steps in range(100):\n",
    "    for c in ('blue', 'red', 'green'):\n",
    "        color(c)\n",
    "        forward(steps)\n",
    "        right(30)   \n",
    "\n",
    "my_screen = Screen()\n",
    "print(my_screen.canvheight)\n",
    "my_screen.exitonclick()"
   ]
  },
  {
   "cell_type": "code",
   "execution_count": 2,
   "metadata": {},
   "outputs": [
    {
     "name": "stdout",
     "output_type": "stream",
     "text": [
      "Collecting prettytable\n",
      "  Obtaining dependency information for prettytable from https://files.pythonhosted.org/packages/73/19/4bb9530512432774fdd7cb7c020851d4decbb811d95f86fd4f6a870a6d3e/prettytable-3.12.0-py3-none-any.whl.metadata\n",
      "  Using cached prettytable-3.12.0-py3-none-any.whl.metadata (30 kB)\n",
      "Requirement already satisfied: wcwidth in c:\\users\\basti\\anaconda3\\lib\\site-packages (from prettytable) (0.2.5)\n",
      "Using cached prettytable-3.12.0-py3-none-any.whl (31 kB)\n",
      "Installing collected packages: prettytable\n",
      "Successfully installed prettytable-3.12.0\n"
     ]
    }
   ],
   "source": [
    "!pip install prettytable"
   ]
  },
  {
   "cell_type": "code",
   "execution_count": 10,
   "metadata": {},
   "outputs": [
    {
     "name": "stdout",
     "output_type": "stream",
     "text": [
      "+---------------+----------+-------+\n",
      "| Pokémon Names |   Type   | Level |\n",
      "+---------------+----------+-------+\n",
      "|    Pikachu    | Electric |   10  |\n",
      "|   Charmander  |   Fire   |   12  |\n",
      "|   Bulbasaur   |  Grass   |   14  |\n",
      "|    Squirtle   |  Water   |   15  |\n",
      "|   Jigglypuff  |  Normal  |   8   |\n",
      "|     Meowth    |  Normal  |   9   |\n",
      "|    Psyduck    |  Water   |   13  |\n",
      "|    Snorlax    |  Normal  |   20  |\n",
      "+---------------+----------+-------+\n"
     ]
    }
   ],
   "source": [
    "from prettytable import PrettyTable\n",
    "table = PrettyTable()\n",
    "table.add_column(\"Pokémon Names\", [\"Pikachu\", \"Charmander\", \"Bulbasaur\", \"Squirtle\", \"Jigglypuff\", \"Meowth\", \"Psyduck\", \"Snorlax\"])\n",
    "table.add_column(\"Type\", [\"Electric\", \"Fire\", \"Grass\", \"Water\", \"Normal\", \"Normal\", \"Water\", \"Normal\"])\n",
    "table.add_column(\"Level\", [10, 12, 14, 15, 8, 9, 13, 20])\n",
    "table.align = 'c'\n",
    "print(table)\n"
   ]
  },
  {
   "cell_type": "code",
   "execution_count": null,
   "metadata": {},
   "outputs": [],
   "source": []
  },
  {
   "cell_type": "code",
   "execution_count": null,
   "metadata": {},
   "outputs": [],
   "source": []
  }
 ],
 "metadata": {
  "kernelspec": {
   "display_name": "base",
   "language": "python",
   "name": "python3"
  },
  "language_info": {
   "codemirror_mode": {
    "name": "ipython",
    "version": 3
   },
   "file_extension": ".py",
   "mimetype": "text/x-python",
   "name": "python",
   "nbconvert_exporter": "python",
   "pygments_lexer": "ipython3",
   "version": "3.11.5"
  }
 },
 "nbformat": 4,
 "nbformat_minor": 2
}
